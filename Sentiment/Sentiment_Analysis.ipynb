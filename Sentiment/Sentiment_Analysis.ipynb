{
  "nbformat": 4,
  "nbformat_minor": 0,
  "metadata": {
    "colab": {
      "provenance": []
    },
    "kernelspec": {
      "name": "python3",
      "display_name": "Python 3"
    },
    "language_info": {
      "name": "python"
    }
  },
  "cells": [
    {
      "cell_type": "code",
      "execution_count": 4,
      "metadata": {
        "colab": {
          "base_uri": "https://localhost:8080/"
        },
        "id": "Z27ukHJ_egL_",
        "outputId": "78a8ed01-165d-47ef-cdb5-6c031765991b"
      },
      "outputs": [
        {
          "output_type": "stream",
          "name": "stdout",
          "text": [
            "Requirement already satisfied: jieba in /usr/local/lib/python3.10/dist-packages (0.42.1)\n",
            "Requirement already satisfied: openpyxl in /usr/local/lib/python3.10/dist-packages (3.1.5)\n",
            "Requirement already satisfied: et-xmlfile in /usr/local/lib/python3.10/dist-packages (from openpyxl) (2.0.0)\n",
            "Requirement already satisfied: chardet in /usr/local/lib/python3.10/dist-packages (5.2.0)\n",
            "负面词典编码：UTF-16\n",
            "正面词典编码：UTF-16\n",
            "分析完成，结果已保存为 sentiment_results.xlsx\n",
            "情感统计结果：\n",
            "sentiment\n",
            "正面    129\n",
            "中性     39\n",
            "负面     31\n",
            "Name: count, dtype: int64\n",
            "情感统计结果已保存为 sentiment_statistics.xlsx\n"
          ]
        }
      ],
      "source": [
        "# -*- coding: utf-8 -*-\n",
        "# 在Google Colab上运行的情感分析代码\n",
        "\n",
        "# 安装必要的库\n",
        "!pip install jieba openpyxl\n",
        "!pip install chardet\n",
        "\n",
        "# 导入库\n",
        "import pandas as pd\n",
        "import jieba\n",
        "import chardet\n",
        "\n",
        "# 检测文件编码\n",
        "def detect_encoding(file_path):\n",
        "    with open(file_path, 'rb') as f:\n",
        "        result = chardet.detect(f.read())\n",
        "    return result['encoding']\n",
        "\n",
        "negative_encoding = detect_encoding('/content/tsinghua_negative_gb_1.txt')\n",
        "positive_encoding = detect_encoding('/content/tsinghua_positive_gb_1.txt')\n",
        "\n",
        "print(f\"负面词典编码：{negative_encoding}\")\n",
        "print(f\"正面词典编码：{positive_encoding}\")\n",
        "\n",
        "# 情感词典加载\n",
        "positive_words = set()\n",
        "negative_words = set()\n",
        "\n",
        "# 按检测到的编码加载文件\n",
        "with open('/content/tsinghua_negative_gb_1.txt', 'r', encoding=negative_encoding) as f:\n",
        "    negative_words.update(line.strip() for line in f)\n",
        "\n",
        "with open('/content/tsinghua_positive_gb_1.txt', 'r', encoding=positive_encoding) as f:\n",
        "    positive_words.update(line.strip() for line in f)\n",
        "\n",
        "# 定义情感分析函数\n",
        "def sentiment_analysis(text):\n",
        "    # 分词\n",
        "    words = jieba.lcut(text)\n",
        "    pos_count = sum(1 for word in words if word in positive_words)\n",
        "    neg_count = sum(1 for word in words if word in negative_words)\n",
        "    if pos_count > neg_count:\n",
        "        return \"正面\"\n",
        "    elif pos_count < neg_count:\n",
        "        return \"负面\"\n",
        "    else:\n",
        "        return \"中性\"\n",
        "\n",
        "# 读取 Excel 文件\n",
        "file_path = '/content/cleaned_data.xlsx'  # 上传文件后路径\n",
        "df = pd.read_excel(file_path)\n",
        "\n",
        "# 读取文本\n",
        "text_column = '回答文本'\n",
        "if text_column not in df.columns:\n",
        "    raise ValueError(f\"请确保Excel文件包含列 '{text_column}'\")\n",
        "\n",
        "# 应用情感分析\n",
        "df['sentiment'] = df[text_column].apply(sentiment_analysis)\n",
        "\n",
        "# 保存情感分析结果\n",
        "output_file = 'sentiment_results.xlsx'\n",
        "df.to_excel(output_file, index=False)\n",
        "print(f\"分析完成，结果已保存为 {output_file}\")\n",
        "\n",
        "# 统计正面、中性、负面情感的数量\n",
        "sentiment_counts = df['sentiment'].value_counts()\n",
        "\n",
        "# 打印统计结果\n",
        "print(\"情感统计结果：\")\n",
        "print(sentiment_counts)\n",
        "\n",
        "# 保存统计结果到文件\n",
        "stat_output_file = 'sentiment_statistics.xlsx'\n",
        "sentiment_counts.to_excel(stat_output_file, index=True, header=['Count'])\n",
        "print(f\"情感统计结果已保存为 {stat_output_file}\")\n"
      ]
    }
  ]
}